{
 "cells": [
  {
   "cell_type": "code",
   "execution_count": 70,
   "id": "a496ac0f-ada0-4e81-8fbb-ab460d00a804",
   "metadata": {},
   "outputs": [],
   "source": [
    "#This module aims at forecasting stock prices by 'n' days into the future using machine learning"
   ]
  },
  {
   "cell_type": "code",
   "execution_count": 71,
   "id": "68339e99-bcc8-4d95-b586-09521b790da1",
   "metadata": {},
   "outputs": [],
   "source": [
    "#Import quadl to retrieve historical stock data"
   ]
  },
  {
   "cell_type": "code",
   "execution_count": 72,
   "id": "87e427a4-a71f-4b62-ae3c-fbac8baf80e7",
   "metadata": {},
   "outputs": [
    {
     "name": "stdout",
     "output_type": "stream",
     "text": [
      "Requirement already satisfied: quandl in /Users/nicolomoro/opt/anaconda3/lib/python3.9/site-packages (3.7.0)\n",
      "Requirement already satisfied: pandas>=0.14 in /Users/nicolomoro/opt/anaconda3/lib/python3.9/site-packages (from quandl) (1.4.4)\n",
      "Requirement already satisfied: inflection>=0.3.1 in /Users/nicolomoro/opt/anaconda3/lib/python3.9/site-packages (from quandl) (0.5.1)\n",
      "Requirement already satisfied: numpy>=1.8 in /Users/nicolomoro/opt/anaconda3/lib/python3.9/site-packages (from quandl) (1.21.5)\n",
      "Requirement already satisfied: python-dateutil in /Users/nicolomoro/opt/anaconda3/lib/python3.9/site-packages (from quandl) (2.8.2)\n",
      "Requirement already satisfied: six in /Users/nicolomoro/opt/anaconda3/lib/python3.9/site-packages (from quandl) (1.16.0)\n",
      "Requirement already satisfied: requests>=2.7.0 in /Users/nicolomoro/opt/anaconda3/lib/python3.9/site-packages (from quandl) (2.28.1)\n",
      "Requirement already satisfied: more-itertools in /Users/nicolomoro/opt/anaconda3/lib/python3.9/site-packages (from quandl) (10.2.0)\n",
      "Requirement already satisfied: pytz>=2020.1 in /Users/nicolomoro/opt/anaconda3/lib/python3.9/site-packages (from pandas>=0.14->quandl) (2022.1)\n",
      "Requirement already satisfied: idna<4,>=2.5 in /Users/nicolomoro/opt/anaconda3/lib/python3.9/site-packages (from requests>=2.7.0->quandl) (3.3)\n",
      "Requirement already satisfied: urllib3<1.27,>=1.21.1 in /Users/nicolomoro/opt/anaconda3/lib/python3.9/site-packages (from requests>=2.7.0->quandl) (1.26.11)\n",
      "Requirement already satisfied: charset-normalizer<3,>=2 in /Users/nicolomoro/opt/anaconda3/lib/python3.9/site-packages (from requests>=2.7.0->quandl) (2.0.4)\n",
      "Requirement already satisfied: certifi>=2017.4.17 in /Users/nicolomoro/opt/anaconda3/lib/python3.9/site-packages (from requests>=2.7.0->quandl) (2022.9.24)\n",
      "Note: you may need to restart the kernel to use updated packages.\n"
     ]
    }
   ],
   "source": [
    "pip install quandl"
   ]
  },
  {
   "cell_type": "code",
   "execution_count": 94,
   "id": "d2576dab-e725-46ac-9ec9-f4d48c908224",
   "metadata": {},
   "outputs": [
    {
     "name": "stdin",
     "output_type": "stream",
     "text": [
      "Insert Ticker HERE :  AAPL\n"
     ]
    }
   ],
   "source": [
    "#import the dependencies \n",
    "import quandl\n",
    "import numpy as np\n",
    "from sklearn.linear_model import LinearRegression\n",
    "from sklearn.svm import SVR\n",
    "from sklearn.model_selection import train_test_split  #this is necessary to split and train our data\n",
    "stock = input('Insert Ticker HERE : ')"
   ]
  },
  {
   "cell_type": "code",
   "execution_count": 95,
   "id": "4fc78400-8ce6-4fbf-90ac-087a7add152f",
   "metadata": {},
   "outputs": [
    {
     "name": "stdout",
     "output_type": "stream",
     "text": [
      "             Open   High    Low  Close     Volume  Ex-Dividend  Split Ratio  \\\n",
      "Date                                                                          \n",
      "1980-12-12  28.75  28.87  28.75  28.75  2093900.0          0.0          1.0   \n",
      "1980-12-15  27.38  27.38  27.25  27.25   785200.0          0.0          1.0   \n",
      "1980-12-16  25.37  25.37  25.25  25.25   472000.0          0.0          1.0   \n",
      "1980-12-17  25.87  26.00  25.87  25.87   385900.0          0.0          1.0   \n",
      "1980-12-18  26.63  26.75  26.63  26.63   327900.0          0.0          1.0   \n",
      "\n",
      "            Adj. Open  Adj. High  Adj. Low  Adj. Close  Adj. Volume  \n",
      "Date                                                                 \n",
      "1980-12-12   0.422706   0.424470  0.422706    0.422706  117258400.0  \n",
      "1980-12-15   0.402563   0.402563  0.400652    0.400652   43971200.0  \n",
      "1980-12-16   0.373010   0.373010  0.371246    0.371246   26432000.0  \n",
      "1980-12-17   0.380362   0.382273  0.380362    0.380362   21610400.0  \n",
      "1980-12-18   0.391536   0.393300  0.391536    0.391536   18362400.0  \n"
     ]
    }
   ],
   "source": [
    "#Get the stock data identiied as the variable 'df' standing for 'dataframe'\n",
    "\n",
    "df = quandl.get('WIKI/'+ stock)\n",
    "#Take a look at the headers of your data to understand which are useful\n",
    "print(df.head())\n"
   ]
  },
  {
   "cell_type": "code",
   "execution_count": 96,
   "id": "1a8a5c2a-1cd1-401d-bd4b-8e623a2de7be",
   "metadata": {},
   "outputs": [
    {
     "name": "stdout",
     "output_type": "stream",
     "text": [
      "            Adj. Close\n",
      "Date                  \n",
      "1980-12-12    0.422706\n",
      "1980-12-15    0.400652\n",
      "1980-12-16    0.371246\n",
      "1980-12-17    0.380362\n",
      "1980-12-18    0.391536\n"
     ]
    }
   ],
   "source": [
    "#Use Adj.close Price\n",
    "df = df[['Adj. Close']]\n",
    "print(df.head())"
   ]
  },
  {
   "cell_type": "code",
   "execution_count": 97,
   "id": "6cafce08-ae26-4f00-87ae-ec4d5b7f10ba",
   "metadata": {},
   "outputs": [
    {
     "name": "stdout",
     "output_type": "stream",
     "text": [
      "            Adj. Close  Prediction\n",
      "Date                              \n",
      "1980-12-12    0.422706    0.470490\n",
      "1980-12-15    0.400652    0.455787\n",
      "1980-12-16    0.371246    0.439173\n",
      "1980-12-17    0.380362    0.415355\n",
      "1980-12-18    0.391536    0.391536\n",
      "            Adj. Close  Prediction\n",
      "Date                              \n",
      "2018-03-21     171.270         NaN\n",
      "2018-03-22     168.845         NaN\n",
      "2018-03-23     164.940         NaN\n",
      "2018-03-26     172.770         NaN\n",
      "2018-03-27     168.340         NaN\n"
     ]
    }
   ],
   "source": [
    "#Define the variable determining how many days into the future you want to forecast\n",
    "#For the purpose of this module it will be set at 30 days standard\n",
    "forecast_out = 30\n",
    "#Create another column 'Target' shifted 'n' units up \n",
    "df['Prediction'] = df[['Adj. Close']].shift(- forecast_out)\n",
    "#printing the head and tail of the dataset its possible to notice that the 'Adj. Close' column has been shifted by\n",
    "# the 'n' units defined in 'forecast_out'\n",
    "print(df.head())\n",
    "print(df.tail())"
   ]
  },
  {
   "cell_type": "code",
   "execution_count": 98,
   "id": "02a6ce2f-7c4d-44d8-83c8-5f6dd83eb9b1",
   "metadata": {},
   "outputs": [
    {
     "name": "stdout",
     "output_type": "stream",
     "text": [
      "[[  0.42270592]\n",
      " [  0.40065169]\n",
      " [  0.37124607]\n",
      " ...\n",
      " [155.32      ]\n",
      " [155.97      ]\n",
      " [162.71      ]]\n"
     ]
    },
    {
     "name": "stderr",
     "output_type": "stream",
     "text": [
      "/var/folders/sr/18syqzcs2dzfcvt5l8sn7b680000gn/T/ipykernel_76913/1178484858.py:3: FutureWarning: In a future version of pandas all arguments of DataFrame.drop except for the argument 'labels' will be keyword-only.\n",
      "  X = np.array(df.drop(['Prediction'],1))\n"
     ]
    }
   ],
   "source": [
    "#Create the independent dataset 'x' \n",
    "    # Convert the dataframe to a numpy array\n",
    "X = np.array(df.drop(['Prediction'],1))\n",
    "#Remove the last 'n' rows \n",
    "X = X[:-forecast_out]\n",
    "print(X)"
   ]
  },
  {
   "cell_type": "code",
   "execution_count": 99,
   "id": "ca97fdf1-a821-459c-93db-a57024af6ae1",
   "metadata": {},
   "outputs": [
    {
     "name": "stdout",
     "output_type": "stream",
     "text": [
      "[  0.47049006   0.45578725   0.43917307 ... 164.94       172.77\n",
      " 168.34      ]\n"
     ]
    }
   ],
   "source": [
    "#Create the dependent dataset 'y'\n",
    "    #Convert the dataframe to a numpy array  (will give all values including the NaN)\n",
    "y = np.array(df['Prediction'])\n",
    "#get all of the y-values except the last 'n' rows\n",
    "y = y[: -forecast_out]\n",
    "print(y)"
   ]
  },
  {
   "cell_type": "code",
   "execution_count": 100,
   "id": "47cce35e-418b-4142-855b-658162ec810b",
   "metadata": {},
   "outputs": [],
   "source": [
    "### REMEMBER THAT X IS A LIST OF LIST, Y IS A LIST ###"
   ]
  },
  {
   "cell_type": "code",
   "execution_count": 101,
   "id": "92624790-118f-4910-b5ad-c544c4a097e0",
   "metadata": {},
   "outputs": [],
   "source": [
    "#Split the data into 80% training and 20% testing\n",
    "x_train, x_test, y_train, y_test = train_test_split(X, y, test_size = 0.2)"
   ]
  },
  {
   "cell_type": "code",
   "execution_count": 102,
   "id": "5141bb36-5819-47df-8cc3-feb6008b8cda",
   "metadata": {},
   "outputs": [
    {
     "data": {
      "text/plain": [
       "SVR(C=1000.0, gamma=0.1)"
      ]
     },
     "execution_count": 102,
     "metadata": {},
     "output_type": "execute_result"
    }
   ],
   "source": [
    "# Create and train the model (Support Vector Machine [Regressor])\n",
    "svr_rbf= SVR(kernel = 'rbf', C= 1e3, gamma= 0.1)\n",
    "svr_rbf.fit(x_train, y_train)\n"
   ]
  },
  {
   "cell_type": "code",
   "execution_count": 103,
   "id": "07a78509-dc90-46d6-a74f-99d0351e1085",
   "metadata": {},
   "outputs": [
    {
     "name": "stdout",
     "output_type": "stream",
     "text": [
      "svm_confidence:  0.991400967938369\n"
     ]
    }
   ],
   "source": [
    "#testing the model: Score returns the coefficient of determination R^2 of the prediction\n",
    "#The best possible score is 1.0\n",
    "svm_confidence= svr_rbf.score(x_test, y_test)\n",
    "print('svm_confidence: ', svm_confidence)\n"
   ]
  },
  {
   "cell_type": "code",
   "execution_count": 104,
   "id": "d4ab8f66-8bb7-4231-98db-a73488c4fd54",
   "metadata": {},
   "outputs": [
    {
     "data": {
      "text/plain": [
       "LinearRegression()"
      ]
     },
     "execution_count": 104,
     "metadata": {},
     "output_type": "execute_result"
    }
   ],
   "source": [
    "#Create and train the linear regression model\n",
    "lr= LinearRegression()\n",
    "#train the model\n",
    "lr.fit(x_train, y_train)"
   ]
  },
  {
   "cell_type": "code",
   "execution_count": 105,
   "id": "041ddd06-c356-4818-a037-09c3426a991c",
   "metadata": {},
   "outputs": [
    {
     "name": "stdout",
     "output_type": "stream",
     "text": [
      "lr_confidence:  0.9911283134752211\n"
     ]
    }
   ],
   "source": [
    "#testing the model: Score returns the coefficient of determination R^2 of the prediction\n",
    "#The best possible score is 1.0\n",
    "lr_confidence= lr.score(x_test, y_test)\n",
    "print('lr_confidence: ', lr_confidence)"
   ]
  },
  {
   "cell_type": "code",
   "execution_count": 106,
   "id": "de31b697-56fb-4c8b-ad99-506822dc2df7",
   "metadata": {},
   "outputs": [
    {
     "name": "stdout",
     "output_type": "stream",
     "text": [
      "[[169.23]\n",
      " [172.26]\n",
      " [172.23]\n",
      " [173.03]\n",
      " [175.  ]\n",
      " [174.35]\n",
      " [174.33]\n",
      " [174.29]\n",
      " [175.28]\n",
      " [177.09]\n",
      " [176.19]\n",
      " [179.1 ]\n",
      " [179.26]\n",
      " [178.46]\n",
      " [177.  ]\n",
      " [177.04]\n",
      " [174.22]\n",
      " [171.11]\n",
      " [171.51]\n",
      " [167.96]\n",
      " [166.97]\n",
      " [167.43]\n",
      " [167.78]\n",
      " [160.37]\n",
      " [157.49]\n",
      " [163.03]\n",
      " [159.54]\n",
      " [155.32]\n",
      " [155.97]\n",
      " [162.71]]\n"
     ]
    }
   ],
   "source": [
    "#Set a variable 'x_forecast' equal to the last 'n' rows of the original dataset from 'Adj. Close' column\n",
    "x_forecast = np.array(X)[-forecast_out:]\n",
    "print(x_forecast)"
   ]
  },
  {
   "cell_type": "code",
   "execution_count": 107,
   "id": "dce1d032-165f-447a-b232-51fae44134f8",
   "metadata": {},
   "outputs": [
    {
     "name": "stdout",
     "output_type": "stream",
     "text": [
      "LR predictions\n",
      "[172.6814916  175.77089051 175.7403024  176.55598528 178.56460437\n",
      " 177.90186203 177.88146996 177.84068581 178.85009338 180.69557589\n",
      " 179.77793265 182.74497912 182.9081157  182.09243282 180.60381157\n",
      " 180.64459571 177.76931356 174.59834637 175.00618781 171.38659503\n",
      " 170.37718747 170.84620513 171.20306639 163.64780372 160.71134536\n",
      " 166.35994929 162.80153273 158.49880555 159.16154789 166.03367614]\n",
      " \n",
      "SVM predictions\n",
      "[176.0303882  171.7086606  171.73391559 170.66529449 174.17708741\n",
      " 171.45127949 171.38597234 171.26008381 175.45313    177.49191816\n",
      " 178.0198731  176.45479718 176.10982441 176.71966925 177.61741298\n",
      " 177.56207576 171.05549742 171.69331525 171.83453303 178.48506832\n",
      " 174.16163497 176.83573572 178.11979976 155.11482269 171.05735301\n",
      " 156.63101145 156.86017932 162.58445339 167.76408962 156.68426812]\n",
      " \n",
      "lr_confidence:  0.9911283134752211\n",
      "svm_confidence:  0.991400967938369\n"
     ]
    }
   ],
   "source": [
    "#Print the predictions for the next 'n' days using linear regression model\n",
    "lr_predictions = lr.predict(x_forecast)\n",
    "print('LR predictions')\n",
    "print(lr_predictions)\n",
    "print(' ')\n",
    "#Print the predictions for the next 'n' days using support vector regressor model\n",
    "svm_predictions = svr_rbf.predict(x_forecast)\n",
    "print('SVM predictions')\n",
    "print(svm_predictions)\n",
    "print(' ')\n",
    "print('lr_confidence: ', lr_confidence)\n",
    "print('svm_confidence: ', svm_confidence)"
   ]
  },
  {
   "cell_type": "code",
   "execution_count": null,
   "id": "1d672dc6-ee67-4b15-b60a-a225761e360b",
   "metadata": {},
   "outputs": [],
   "source": []
  }
 ],
 "metadata": {
  "kernelspec": {
   "display_name": "Python 3 (ipykernel)",
   "language": "python",
   "name": "python3"
  },
  "language_info": {
   "codemirror_mode": {
    "name": "ipython",
    "version": 3
   },
   "file_extension": ".py",
   "mimetype": "text/x-python",
   "name": "python",
   "nbconvert_exporter": "python",
   "pygments_lexer": "ipython3",
   "version": "3.9.13"
  }
 },
 "nbformat": 4,
 "nbformat_minor": 5
}
